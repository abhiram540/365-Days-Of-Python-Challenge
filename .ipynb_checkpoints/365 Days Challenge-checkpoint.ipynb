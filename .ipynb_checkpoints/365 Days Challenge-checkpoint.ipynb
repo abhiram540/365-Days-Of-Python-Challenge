{
 "cells": [
  {
   "cell_type": "markdown",
   "id": "ba7a74b4",
   "metadata": {},
   "source": [
    "# 365 Days of Python Challenge\n",
    "\n",
    "### Day 1: Line continuation characters in Python"
   ]
  },
  {
   "cell_type": "code",
   "execution_count": 1,
   "id": "8be689d3",
   "metadata": {},
   "outputs": [
    {
     "name": "stdout",
     "output_type": "stream",
     "text": [
      "Success is not final; failure is not fatal: It is the courage to continue that counts. — Winston S. Churchill\n"
     ]
    }
   ],
   "source": [
    "print('Success is not final; failure is not fatal: It is the courage to continue that counts. — Winston S. Churchill')"
   ]
  },
  {
   "cell_type": "code",
   "execution_count": 2,
   "id": "41be92f4",
   "metadata": {},
   "outputs": [
    {
     "ename": "SyntaxError",
     "evalue": "EOL while scanning string literal (<ipython-input-2-622b7d1b8d50>, line 1)",
     "output_type": "error",
     "traceback": [
      "\u001b[1;36m  File \u001b[1;32m\"<ipython-input-2-622b7d1b8d50>\"\u001b[1;36m, line \u001b[1;32m1\u001b[0m\n\u001b[1;33m    print('Success is not final; failure is not fatal:\u001b[0m\n\u001b[1;37m                                                      ^\u001b[0m\n\u001b[1;31mSyntaxError\u001b[0m\u001b[1;31m:\u001b[0m EOL while scanning string literal\n"
     ]
    }
   ],
   "source": [
    "print('Success is not final; failure is not fatal:\n",
    "      It is the courage to continue that counts.\" — Winston S. Churchill')"
   ]
  },
  {
   "cell_type": "code",
   "execution_count": 5,
   "id": "71cb5d12",
   "metadata": {},
   "outputs": [
    {
     "name": "stdout",
     "output_type": "stream",
     "text": [
      "Success is not final; failure is not fatal: It is the courage to continue that counts.\" — Winston S. Churchill\n"
     ]
    }
   ],
   "source": [
    "#In Python, a backslash (\\) is a continuation character\n",
    "print('Success is not final; failure is not fatal:\\\n",
    " It is the courage to continue that counts.\" — Winston S. Churchill')"
   ]
  },
  {
   "cell_type": "markdown",
   "id": "a9658633",
   "metadata": {},
   "source": [
    "### Day 2: Count character occurances using Python"
   ]
  },
  {
   "cell_type": "code",
   "execution_count": 1,
   "id": "16f9bbb4",
   "metadata": {},
   "outputs": [
    {
     "name": "stdout",
     "output_type": "stream",
     "text": [
      "Enter your string:cybertruck\n",
      "{'c': 2, 'y': 1, 'b': 1, 'e': 1, 'r': 2, 't': 1, 'u': 1, 'k': 1}\n",
      "None\n"
     ]
    }
   ],
   "source": [
    "def count_characters(x):\n",
    "    count = {}\n",
    "    for i in x:\n",
    "        if i in count:\n",
    "            count[i] += 1\n",
    "        else:\n",
    "            count[i] = 1\n",
    "    print(count)\n",
    "word = input('Enter your string:')\n",
    "print(count_characters(word))\n"
   ]
  },
  {
   "cell_type": "markdown",
   "id": "9b0bc433",
   "metadata": {},
   "source": [
    "### Day 3: using the if-else instruction to branch the control path and building a complete program that solves simple real-life problems.\n",
    "\n",
    "#### Scenario\n",
    "Once upon a time there was a land - a land of milk and honey, inhabited by happy and prosperous people. The people paid taxes, of course - their happiness had limits. The most important tax, called the Personal Income Tax (PIT for short) had to be paid once a year, and was evaluated using the following rule:\n",
    "\n",
    "- if the citizen's income was not higher than 85,528 thalers, the tax was equal to 18% of the income minus 556 thalers and 2 cents (this was the so-called tax relief)\n",
    "- if the income was higher than this amount, the tax was equal to 14,839 thalers and 2 cents, plus 32% of the surplus over 85,528 thalers.\n",
    "\n",
    "Your task is to write a tax calculator.\n",
    "\n",
    "It should accept one floating-point value: the income.\n",
    "Next, it should print the calculated tax, rounded to full thalers. There's a function named round() which will do the rounding for you.\n",
    "\n",
    "Note: this happy country never returns money to its citizens. If the calculated tax is less than zero, it only means no tax at all (the tax is equal to zero). Take this into consideration during your calculations.\n"
   ]
  },
  {
   "cell_type": "code",
   "execution_count": 1,
   "id": "85e625e7",
   "metadata": {},
   "outputs": [
    {
     "name": "stdout",
     "output_type": "stream",
     "text": [
      "Enter the annual income: 100000\n",
      "The tax is: 19470.0 thalers\n"
     ]
    }
   ],
   "source": [
    "income = float(input(\"Enter the annual income: \"))\n",
    "\n",
    "if income <= 85528:\n",
    "    tax = 0.18*income - 556.2\n",
    "    if tax < 0:\n",
    "        print(\"The tax is:\", 0, \"thalers\")\n",
    "        exit()\n",
    "else:\n",
    "    tax = 14839.2 + 0.32*(income - 85528)\n",
    "\n",
    "tax = round(tax, 0)\n",
    "print(\"The tax is:\", tax, \"thalers\")"
   ]
  },
  {
   "cell_type": "markdown",
   "id": "fc264ce9",
   "metadata": {},
   "source": [
    "### Day 4: using the if-elif-else statement, finding the proper implementation of verbally defined rules and testing code using sample input and output.\n",
    "\n",
    "#### Scenario\n",
    "As you surely know, due to some astronomical reasons, years may be leap or common. The former are 366 days long, while the latter are 365 days long.\n",
    "\n",
    "Since the introduction of the Gregorian calendar (in 1582), the following rule is used to determine the kind of year:\n",
    "\n",
    "- if the year number isn't divisible by four, it's a common year;\n",
    "- otherwise, if the year number isn't divisible by 100, it's a leap year;\n",
    "- otherwise, if the year number isn't divisible by 400, it's a common year;\n",
    "- otherwise, it's a leap year.\n",
    "\n",
    "The code should output one of two possible messages, which are Leap year or Common year, depending on the value entered.\n",
    "\n",
    "It would be good to verify if the entered year falls into the Gregorian era, and output a warning otherwise: Not within the Gregorian calendar period. Tip: use the != and % operators."
   ]
  },
  {
   "cell_type": "code",
   "execution_count": 3,
   "id": "7131e775",
   "metadata": {},
   "outputs": [
    {
     "name": "stdout",
     "output_type": "stream",
     "text": [
      "Enter a year: 1996\n",
      "it's a leap year\n"
     ]
    }
   ],
   "source": [
    "year = int(input(\"Enter a year: \"))\n",
    "\n",
    "if year < 1582:\n",
    "    print('Not within the Gregorian calendar period')\n",
    "elif (year%4) != 0:\n",
    "    print(\"it's a common year\")\n",
    "elif (year%100) != 0:\n",
    "    print(\"it's a leap year\")\n",
    "elif (year%400) != 0:\n",
    "    print(\"it's a common year\")\n",
    "else:\n",
    "    print(\"it's a leap year\")"
   ]
  },
  {
   "cell_type": "markdown",
   "id": "904e8065",
   "metadata": {},
   "source": [
    "### Day 5: using the ***while*** loop\n",
    "\n",
    "#### Scenario\n",
    "A junior magician has picked a secret number. He has hidden it in a variable named secret_number. He wants everyone who run his program to play the Guess the secret number game, and guess what number he has picked for them. Those who don't guess the number will be stuck in an endless loop forever! Unfortunately, he does not know how to complete the code.\n",
    "\n",
    "Your task is to help the magician complete the code in the editor in such a way so that the code:\n",
    "\n",
    "- will ask the user to enter an integer number;\n",
    "- will use a while loop;\n",
    "- will check whether the number entered by the user is the same as the number picked by the magician. If the number chosen by the user is different than the magician's secret number, the user should see the message \"Ha ha! You're stuck in my loop!\" and be prompted to enter a number again. If the number entered by the user matches the number picked by the magician, the number should be printed to the screen, and the magician should say the following words: \"Well done, muggle! You are free now.\"\n",
    "\n",
    "The magician is counting on you! Don't disappoint him.\n"
   ]
  },
  {
   "cell_type": "code",
   "execution_count": 2,
   "id": "b1058c8f",
   "metadata": {},
   "outputs": [
    {
     "name": "stdout",
     "output_type": "stream",
     "text": [
      "\n",
      "+================================+\n",
      "| Welcome to my game, muggle!    |\n",
      "| Enter an integer number        |\n",
      "| and guess what number I've     |\n",
      "| picked for you.                |\n",
      "| So, what is the secret number? |\n",
      "+================================+\n",
      "\n",
      "Enter the number you have guessed here:789\n",
      "Ha ha! You're stuck in my loop!\n",
      "Enter another guess:753\n",
      "Ha ha! You're stuck in my loop!\n",
      "Enter another guess:987\n",
      "Ha ha! You're stuck in my loop!\n",
      "Enter another guess:951\n",
      "Ha ha! You're stuck in my loop!\n",
      "Enter another guess:777\n",
      "777 Well done, muggle! You are free now.\n"
     ]
    }
   ],
   "source": [
    "secret_number = 777\n",
    "\n",
    "print(\n",
    "\"\"\"\n",
    "+================================+\n",
    "| Welcome to my game, muggle!    |\n",
    "| Enter an integer number        |\n",
    "| and guess what number I've     |\n",
    "| picked for you.                |\n",
    "| So, what is the secret number? |\n",
    "+================================+\n",
    "\"\"\")\n",
    "\n",
    "int_number = int(input(\"Enter the number you have guessed here:\"))\n",
    "\n",
    "while int_number != secret_number:\n",
    "    print(\"Ha ha! You're stuck in my loop!\")\n",
    "    int_number = int(input(\"Enter another guess:\"))\n",
    "    \n",
    "print(int_number, 'Well done, muggle! You are free now.')"
   ]
  },
  {
   "cell_type": "markdown",
   "id": "e8f1c938",
   "metadata": {},
   "source": [
    "### Day 6: Using the 'for' loop\n",
    "\n",
    "#### Scenario\n",
    "\n",
    "Do you know what Mississippi is? Well, it's the name of one of the states and rivers in the United States. The Mississippi River is about 2,340 miles long, which makes it the second longest river in the United States (the longest being the Missouri River). It's so long that a single drop of water needs 90 days to travel its entire length!\n",
    "\n",
    "The word Mississippi is also used for a slightly different purpose: to count mississippily.\n",
    "\n",
    "If you're not familiar with the phrase, let's explain to you what it means: it's used to count seconds.\n",
    "\n",
    "The idea behind it is that adding the word Mississippi to a number when counting seconds aloud makes them sound closer to clock-time, and therefore \"one Mississippi, two Mississippi, three Mississippi\" will take approximately an actual three seconds of time! It's often used by children playing hide-and-seek to make sure the seeker does an honest count.\n",
    "\n",
    "\n",
    "Your task is very simple here: ***write a program that uses a for loop to \"count mississippily\" to five. Having counted to five, the program should print to the screen the final message \"Ready or not, here I come!\"***\n",
    "\n",
    "Expected output:<br>\n",
    "1 Mississippi<br>\n",
    "2 Mississippi<br>\n",
    "3 Mississippi<br>\n",
    "4 Mississippi<br>\n",
    "5 Mississippi<br>"
   ]
  },
  {
   "cell_type": "code",
   "execution_count": 3,
   "id": "89dcbfc3",
   "metadata": {},
   "outputs": [
    {
     "name": "stdout",
     "output_type": "stream",
     "text": [
      "1 Mississippi\n",
      "2 Mississippi\n",
      "3 Mississippi\n",
      "4 Mississippi\n",
      "5 Mississippi\n",
      "Ready or not, here I come!\n"
     ]
    }
   ],
   "source": [
    "import time\n",
    "\n",
    "for i in range(1,6):\n",
    "    print(i, \"Mississippi\")\n",
    "    time.sleep(1)\n",
    "\n",
    "print('Ready or not, here I come!')"
   ]
  },
  {
   "cell_type": "markdown",
   "id": "ad3a5a56",
   "metadata": {},
   "source": [
    "### Day 7: Using the 'break' and 'continue' statements\n",
    "\n",
    "As a developer, one could be faced with the following choices:\n",
    "\n",
    "- it appears that it's unnecessary to continue the loop as a whole; you should refrain from further execution of the loop's body and go further;\n",
    "- it appears that you need to start the next turn of the loop without completing the execution of the current turn.\n",
    "\n",
    "Python provides two special instructions for the implementation of both these tasks. Let's say for the sake of accuracy that their existence in the language is not necessary - an experienced programmer is able to code any algorithm without these instructions. Such additions, which don't improve the language's expressive power, but only simplify the developer's work, are sometimes called syntactic candy, or syntactic sugar.\n",
    "\n",
    "These two instructions are:\n",
    "\n",
    "**break** - exits the loop immediately, and unconditionally ends the loop's operation; the program begins to execute the nearest instruction after the loop's body;\n",
    "**continue** - behaves as if the program has suddenly reached the end of the body; the next turn is started and the condition expression is tested immediately."
   ]
  },
  {
   "cell_type": "code",
   "execution_count": 1,
   "id": "31d222bc",
   "metadata": {},
   "outputs": [
    {
     "name": "stdout",
     "output_type": "stream",
     "text": [
      "the break instruction:\n",
      "Inside the loop. 1\n",
      "Inside the loop. 2\n",
      "Outside the loop\n",
      "the continue instruction:\n",
      "Inside the loop: 1\n",
      "Inside the loop: 2\n",
      "Inside the loop: 4\n",
      "Inside the loop: 5\n",
      "Outside the loop\n"
     ]
    }
   ],
   "source": [
    "# the break statement\n",
    "\n",
    "print(\"the break instruction:\")\n",
    "\n",
    "for i in range(1, 6):\n",
    "    if(i == 3):\n",
    "        break\n",
    "    print(\"Inside the loop.\", i)\n",
    "print(\"Outside the loop\")\n",
    "\n",
    "# the continue statement\n",
    "\n",
    "print(\"the continue instruction:\")\n",
    "\n",
    "for i in range(1, 6):\n",
    "    if(i == 3):\n",
    "        continue\n",
    "    print(\"Inside the loop:\", i)\n",
    "print(\"Outside the loop\")\n"
   ]
  },
  {
   "cell_type": "markdown",
   "id": "cf54a052",
   "metadata": {},
   "source": [
    "### A program that recognizes the largest among the entered numbers using 'break' statement."
   ]
  },
  {
   "cell_type": "code",
   "execution_count": 2,
   "id": "fe077132",
   "metadata": {},
   "outputs": [
    {
     "name": "stdout",
     "output_type": "stream",
     "text": [
      "Enter a number or type -1 to end program: 777\n",
      "Enter a number or type -1 to end program: 789\n",
      "Enter a number or type -1 to end program: 987\n",
      "Enter a number or type -1 to end program: 555\n",
      "Enter a number or type -1 to end program: -1\n",
      "The largest number is 987\n"
     ]
    }
   ],
   "source": [
    "largest_number = -99999999\n",
    "counter = 0\n",
    "\n",
    "while True:\n",
    "    number = int(input(\"Enter a number or type -1 to end program: \"))\n",
    "    if number == -1:\n",
    "        break\n",
    "    counter += 1\n",
    "    if number > largest_number:\n",
    "        largest_number = number\n",
    "\n",
    "if counter != 0:\n",
    "    print(\"The largest number is\", largest_number)\n",
    "else:\n",
    "    print(\"You haven't entered any number.\")"
   ]
  },
  {
   "cell_type": "markdown",
   "id": "f4b5ccc0",
   "metadata": {},
   "source": [
    "### A program that recognizes the largest among the entered numbers using 'continue' statement."
   ]
  },
  {
   "cell_type": "code",
   "execution_count": 3,
   "id": "adb70820",
   "metadata": {},
   "outputs": [
    {
     "name": "stdout",
     "output_type": "stream",
     "text": [
      "Enter a number or type -1 to end program: 777\n",
      "Enter a number or type -1 to end program: 789\n",
      "Enter a number or type -1 to end program: 357\n",
      "Enter a number or type -1 to end program: 999\n",
      "Enter a number or type -1 to end program: 555\n",
      "Enter a number or type -1 to end program: -1\n",
      "The largest number is 999\n"
     ]
    }
   ],
   "source": [
    "largest_number = -99999999\n",
    "counter = 0\n",
    "\n",
    "number = int(input(\"Enter a number or type -1 to end program: \"))\n",
    "\n",
    "while number != -1:\n",
    "    if number == -1:\n",
    "        continue\n",
    "    counter += 1\n",
    "\n",
    "    if number > largest_number:\n",
    "        largest_number = number\n",
    "    number = int(input(\"Enter a number or type -1 to end program: \"))\n",
    "\n",
    "if counter:\n",
    "    print(\"The largest number is\", largest_number)\n",
    "else:\n",
    "    print(\"You haven't entered any number.\")"
   ]
  },
  {
   "cell_type": "markdown",
   "id": "dde222bd",
   "metadata": {},
   "source": [
    "### Scenario - *break*\n",
    "\n",
    "The **break** statement is used to exit/terminate a loop.\n",
    "\n",
    "Design a program that uses a while loop and continuously asks the user to enter a word unless the user enters \"chupacabra\" as the secret exit word, in which case the message \"You've successfully left the loop.\" should be printed to the screen, and the loop should terminate.\n",
    "\n",
    "Don't print any of the words entered by the user. Use the concept of conditional execution and the **break** statement."
   ]
  },
  {
   "cell_type": "code",
   "execution_count": 4,
   "id": "505a9fcd",
   "metadata": {},
   "outputs": [
    {
     "name": "stdout",
     "output_type": "stream",
     "text": [
      "Enter a word:good\n",
      "Enter another word:bad\n",
      "Enter another word:inspiration\n",
      "Enter another word:chupacabra\n",
      "You've successfully left the loop.\n"
     ]
    }
   ],
   "source": [
    "word = input(\"Enter a word:\")\n",
    "\n",
    "while True:\n",
    "    if word == 'chupacabra':\n",
    "        break\n",
    "    word = input(\"Enter another word:\")\n",
    "\n",
    "print(\"You've successfully left the loop.\")"
   ]
  },
  {
   "cell_type": "markdown",
   "id": "67d516eb",
   "metadata": {},
   "source": [
    "### Scenario - *continue*\n",
    "\n",
    "The **continue** statement is used to skip the current block and move ahead to the next iteration, without executing the statements inside the loop.\n",
    "\n",
    "It can be used with both the while and for loops.\n",
    "\n",
    "Task here is very special: Design a vowel eater! Write a program that uses:\n",
    "\n",
    "- a for loop;\n",
    "- the concept of conditional execution (if-elif-else)\n",
    "- the **continue** statement.\n",
    "\n",
    "Your program must:\n",
    "\n",
    "- ask the user to enter a word;\n",
    "- use user_word = user_word.upper() to convert the word entered by the user to upper case; \n",
    "- use conditional execution and the **continue** statement to \"eat\" the following vowels A, E, I, O, U from the inputted word;\n",
    "- print the uneaten letters to the screen, each one of them on a separate line."
   ]
  },
  {
   "cell_type": "code",
   "execution_count": 5,
   "id": "d5212860",
   "metadata": {},
   "outputs": [
    {
     "name": "stdout",
     "output_type": "stream",
     "text": [
      "Enter a word:aspiration\n",
      "S\n",
      "P\n",
      "R\n",
      "T\n",
      "N\n"
     ]
    }
   ],
   "source": [
    "# Prompt the user to enter a word\n",
    "# and assign it to the user_word variable.\n",
    "\n",
    "user_word = input(\"Enter a word:\").upper()\n",
    "\n",
    "for letter in user_word:\n",
    "    # Complete the body of the for loop.\n",
    "    if letter == 'A':\n",
    "        continue\n",
    "    elif letter == 'E':\n",
    "        continue\n",
    "    elif letter == 'I':\n",
    "        continue\n",
    "    elif letter == 'O':\n",
    "        continue\n",
    "    elif letter == 'U':\n",
    "        continue\n",
    "    else:\n",
    "        print(letter)"
   ]
  },
  {
   "cell_type": "markdown",
   "id": "1566cfc4",
   "metadata": {},
   "source": [
    "### Scenario2 - *continue*\n",
    "\n",
    "The task here is even more special than before: Redesign the (ugly) vowel eater from the previous lab (3.1.2.10) and create a better, upgraded (pretty) vowel eater! Write a program that uses:\n",
    "\n",
    "- a for loop;\n",
    "- the concept of conditional execution (if-elif-else)\n",
    "- the **continue** statement.\n",
    "\n",
    "Your program must:\n",
    "\n",
    "- ask the user to enter a word;\n",
    "- use user_word = user_word.upper() to convert the word entered by the user to upper case; \n",
    "- use conditional execution and the **continue** statement to \"eat\" the following vowels A, E, I, O, U from the inputted word;\n",
    "- assign the uneaten letters to the word_without_vowels variable and print the variable to the screen."
   ]
  },
  {
   "cell_type": "code",
   "execution_count": 6,
   "id": "a390142c",
   "metadata": {},
   "outputs": [
    {
     "name": "stdout",
     "output_type": "stream",
     "text": [
      "Enter a word:aspiration\n",
      "SPRTN\n"
     ]
    }
   ],
   "source": [
    "word_without_vowels = \"\"\n",
    "\n",
    "# Prompt the user to enter a word\n",
    "# and assign it to the user_word variable.\n",
    "user_word = input(\"Enter a word:\").upper()\n",
    "\n",
    "for letter in user_word:\n",
    "    # Complete the body of the loop.\n",
    "    if letter == 'A':\n",
    "        continue\n",
    "    elif letter == 'E':\n",
    "        continue\n",
    "    elif letter == 'I':\n",
    "        continue\n",
    "    elif letter == 'O':\n",
    "        continue\n",
    "    elif letter == 'U':\n",
    "        continue\n",
    "    else:\n",
    "        word_without_vowels += letter\n",
    "\n",
    "# Print the word assigned to word_without_vowels.\n",
    "print(word_without_vowels)"
   ]
  },
  {
   "cell_type": "markdown",
   "id": "c54697f6",
   "metadata": {},
   "source": [
    "### Day 8: The *while* loop and the *else* branch"
   ]
  },
  {
   "cell_type": "code",
   "execution_count": 7,
   "id": "b2455fa5",
   "metadata": {},
   "outputs": [
    {
     "name": "stdout",
     "output_type": "stream",
     "text": [
      "1\n",
      "2\n",
      "3\n",
      "4\n",
      "else: 5\n"
     ]
    }
   ],
   "source": [
    "i = 1\n",
    "while i < 5:\n",
    "    print(i)\n",
    "    i += 1\n",
    "else:\n",
    "    print(\"else:\", i)"
   ]
  },
  {
   "cell_type": "markdown",
   "id": "130c497b",
   "metadata": {},
   "source": [
    "### The *for* loop and the *else* branch"
   ]
  },
  {
   "cell_type": "code",
   "execution_count": 8,
   "id": "e6b0a936",
   "metadata": {},
   "outputs": [
    {
     "name": "stdout",
     "output_type": "stream",
     "text": [
      "0\n",
      "1\n",
      "2\n",
      "3\n",
      "4\n",
      "else: 4\n"
     ]
    }
   ],
   "source": [
    "for i in range(5):\n",
    "    print(i)\n",
    "else:\n",
    "    print(\"else:\", i)"
   ]
  },
  {
   "attachments": {
    "image.png": {
     "image/png": "[encoded data removed]"
    }
   },
   "cell_type": "markdown",
   "id": "822e0218",
   "metadata": {},
   "source": [
    "### Day 9 - Calculating height of a pyramid using 'while' loop.\n",
    "\n",
    "#### Scenario:\n",
    "\n",
    "A boy and his father, a computer programmer, are playing with wooden blocks. They are building a pyramid.\n",
    "\n",
    "Their pyramid is a bit weird, as it is actually a pyramid-shaped wall - it's flat. The pyramid is stacked according to one simple principle: each lower layer contains one block more than the layer above.\n",
    "\n",
    "The figure illustrates the rule used by the builders:\n",
    "\n",
    "![image.png](attachment:image.png)\n",
    "\n",
    "Write a program which reads the number of blocks the builders have, and outputs the height of the pyramid that can be built using these blocks.\n",
    "\n",
    "Note: the height is measured by the number of fully completed layers - if the builders don't have a sufficient number of blocks and cannot complete the next layer, they finish their work immediately."
   ]
  },
  {
   "cell_type": "code",
   "execution_count": 1,
   "id": "ec122e04",
   "metadata": {},
   "outputs": [
    {
     "name": "stdout",
     "output_type": "stream",
     "text": [
      "Enter the number of blocks: 20\n",
      "The hieght of the pyramid: 5\n"
     ]
    }
   ],
   "source": [
    "blocks = int(input(\"Enter the number of blocks: \"))\n",
    "\n",
    "hieght = 0\n",
    "layer_number = 1\n",
    "\n",
    "while layer_number <= blocks:\n",
    "    hieght += 1\n",
    "    blocks -= layer_number\n",
    "    layer_number += 1\n",
    "\n",
    "print(\"The hieght of the pyramid:\", hieght)"
   ]
  },
  {
   "cell_type": "markdown",
   "id": "5e553207",
   "metadata": {},
   "source": [
    "#### Scenario\n",
    "\n",
    "In 1937, a German mathematician named Lothar Collatz formulated an intriguing hypothesis (it still remains unproven) which can be described in the following way:\n",
    "\n",
    "- take any non-negative and non-zero integer number and name it c0;\n",
    "- if it's even, evaluate a new c0 as c0 ÷ 2;\n",
    "- otherwise, if it's odd, evaluate a new c0 as 3 × c0 + 1;\n",
    "- if c0 ≠ 1, skip to point 2.\n",
    "The hypothesis says that regardless of the initial value of c0, it will always go to 1.\n",
    "\n",
    "Of course, it's an extremely complex task to use a computer in order to prove the hypothesis for any natural number (it may even require artificial intelligence), but you can use Python to check some individual numbers. Maybe you'll even find the one which would disprove the hypothesis.\n",
    "\n",
    "\n",
    "**Write a program which reads one natural number and executes the above steps as long as c0 remains different from 1. We also want you to count the steps needed to achieve the goal. Your code should output all the intermediate values of c0, too.**\n",
    "\n",
    "Hint: the most important part of the problem is how to transform Collatz's idea into a while loop - this is the key to success."
   ]
  },
  {
   "cell_type": "code",
   "execution_count": 2,
   "id": "293598d2",
   "metadata": {},
   "outputs": [
    {
     "name": "stdout",
     "output_type": "stream",
     "text": [
      "Enter any natural number:15\n",
      "46\n",
      "23\n",
      "70\n",
      "35\n",
      "106\n",
      "53\n",
      "160\n",
      "80\n",
      "40\n",
      "20\n",
      "10\n",
      "5\n",
      "16\n",
      "8\n",
      "4\n",
      "2\n",
      "1\n",
      "steps =  17\n"
     ]
    }
   ],
   "source": [
    "c0 = int(input(\"Enter any natural number:\"))\n",
    "\n",
    "step_counter = 0\n",
    "\n",
    "while c0 > 0:\n",
    "    step_counter += 1\n",
    "    if c0%2==0:\n",
    "        c0 /= 2\n",
    "    else:\n",
    "        c0 = 3 * c0 + 1\n",
    "\n",
    "    print(int(c0))\n",
    "    if c0 == 1:\n",
    "        break\n",
    "\n",
    "print(\"steps = \", step_counter)"
   ]
  },
  {
   "cell_type": "markdown",
   "id": "33050beb",
   "metadata": {},
   "source": [
    "### Day 10: creating and modifying simple lists; use methods to modify lists.\n",
    "\n",
    "#### Scenario\n",
    "The Beatles were one of the most popular music group of the 1960s, and the best-selling band in history. Some people consider them to be the most influential act of the rock era. Indeed, they were included in Time magazine's compilation of the 20th Century's 100 most influential people.\n",
    "\n",
    "The band underwent many line-up changes, culminating in 1962 with the line-up of John Lennon, Paul McCartney, George Harrison, and Richard Starkey (better known as Ringo Starr).\n",
    "\n",
    "\n",
    "**Write a program that reflects these changes and lets you practice with the concept of lists. Your task is to:**\n",
    "\n",
    "step 1: create an empty list named beatles;<br>\n",
    "step 2: use the append() method to add the following members of the band to the list: John Lennon, Paul McCartney, and George Harrison;<br>\n",
    "step 3: use the for loop and the append() method to prompt the user to add the following members of the band to the list: Stu Sutcliffe, and Pete Best;<br>\n",
    "step 4: use the del instruction to remove Stu Sutcliffe and Pete Best from the list;<br>\n",
    "step 5: use the insert() method to add Ringo Starr to the beginning of the list.\n"
   ]
  },
  {
   "cell_type": "code",
   "execution_count": 1,
   "id": "6a2a5d71",
   "metadata": {},
   "outputs": [
    {
     "name": "stdout",
     "output_type": "stream",
     "text": [
      "Step 1: []\n",
      "Step 2: ['John Lennon', 'Paul McCartney', 'George Harrison']\n",
      "Enter 'Stu Sutcliffe' to add him to the beatles list:Stu Sutcliffe\n",
      "Enter 'Pete Best' to add him to the beatles list:Pete Best\n",
      "Step 3: ['John Lennon', 'Paul McCartney', 'George Harrison', 'Stu Sutcliffe', 'Pete Best']\n",
      "Step 4: ['John Lennon', 'Paul McCartney', 'George Harrison']\n",
      "Step 5: ['Ringo Starr', 'John Lennon', 'Paul McCartney', 'George Harrison']\n",
      "The Fab 4\n"
     ]
    }
   ],
   "source": [
    "# step 1\n",
    "beatles = []\n",
    "print(\"Step 1:\", beatles)\n",
    "\n",
    "# step 2\n",
    "beatles.append('John Lennon')\n",
    "beatles.append('Paul McCartney')\n",
    "beatles.append('George Harrison')\n",
    "\n",
    "print(\"Step 2:\", beatles)\n",
    "\n",
    "# step 3\n",
    "more_members = ['Stu Sutcliffe', 'Pete Best']\n",
    "\n",
    "for i in more_members:\n",
    "    new_member = input(\"Enter '\" + i + \"' to add him to the beatles list:\")\n",
    "    beatles.append(new_member)\n",
    "    \n",
    "\n",
    "print(\"Step 3:\", beatles)\n",
    "\n",
    "# step 4\n",
    "del beatles[-2]\n",
    "del beatles[-1]\n",
    "\n",
    "print(\"Step 4:\", beatles)\n",
    "\n",
    "# step 5\n",
    "\n",
    "beatles.insert(0, 'Ringo Starr')\n",
    "\n",
    "print(\"Step 5:\", beatles)\n",
    "\n",
    "\n",
    "# testing list legth\n",
    "print(\"The Fab\", len(beatles))\n"
   ]
  },
  {
   "cell_type": "markdown",
   "id": "a5d0471f",
   "metadata": {},
   "source": [
    "### Day 11: Bubble Sort\n",
    "\n",
    "Many sorting algorithms have been invented so far, which differ a lot in speed, as well as in complexity. We are going to show you a very simple algorithm, easy to understand, but unfortunately not too efficient, either. It's used very rarely, and certainly not for large and extensive lists.\n",
    "\n",
    "Let's say that a list can be sorted in two ways:\n",
    "\n",
    "- increasing (or more precisely - non-decreasing) - if in every pair of adjacent elements, the former element is not greater than the latter;\n",
    "- decreasing (or more precisely - non-increasing) - if in every pair of adjacent elements, the former element is not less than the latter.\n",
    "\n",
    "In the following sections, we'll sort the list in increasing order, so that the numbers will be ordered from the smallest to the largest.\n",
    "\n",
    "Here's the list:\n",
    "\n",
    "**8 10 6 2 4**\n",
    "\n",
    "We'll try to use the following approach: we'll take the first and the second elements and compare them; if we determine that they're in the wrong order (i.e., the first is greater than the second), we'll swap them round; if their order is valid, we'll do nothing. A glance at our list confirms the latter - the elements 01 and 02 are in the proper order, as in 8 < 10.\n",
    "\n",
    "Now look at the second and the third elements. They're in the wrong positions. We have to swap them:\n",
    "\n",
    "**8 <span style='color:red'>6 10</span> 2 4**\n",
    "\n",
    "We go further, and look at the third and the fourth elements. Again, this is not what it's supposed to be like. We have to swap them:\n",
    "\n",
    "**8 6 <span style='color:red'>2 10</span> 4**\n",
    "\n",
    "Now we check the fourth and the fifth elements. Yes, they too are in the wrong positions. Another swap occurs:\n",
    "\n",
    "**8 6 2 <span style='color:red'>4 10</span>**\n",
    "\n",
    "The first pass through the list is already finished. We're still far from finishing our job, but something curious has happened in the meantime. The largest element, 10, has already gone to the end of the list. Note that this is the desired place for it. All the remaining elements form a picturesque mess, but this one is already in place.\n",
    "\n",
    "Now, for a moment, try to imagine the list in a slightly different way - namely, like this:\n",
    "\n",
    "**10<br>\n",
    "4<br>\n",
    "2<br>\n",
    "6<br>\n",
    "8**\n",
    "\n",
    "Look - 10 is at the top. We could say that it floated up from the bottom to the surface, just like the bubble in a glass of champagne. The sorting method derives its name from the same observation - it's called a bubble sort.\n",
    "\n",
    "Now we start with the second pass through the list. We look at the first and second elements - a swap is necessary:\n",
    "\n",
    "**<span style='color:red'>6 8</span> 2 4 10**\n",
    "\n",
    "Time for the second and third elements: we have to swap them too:\n",
    "\n",
    "**6 <span style='color:red'>2 8</span> 4 10**\n",
    "\n",
    "Now the third and fourth elements, and the second pass is finished, as 8 is already in place:\n",
    "\n",
    "**6 2 <span style='color:red'>4 8</span> 10**\n",
    "\n",
    "We start the next pass immediately. Watch the first and the second elements carefully - another swap is needed:\n",
    "\n",
    "**<span style='color:red'>2 6</span> 4 8 10**\n",
    "\n",
    "Now 6 needs to go into place. We swap the second and the third elements:\n",
    "\n",
    "**2 4 6 8 10**\n",
    "\n",
    "The list is already sorted. We have nothing more to do. This is exactly what we want.\n",
    "\n",
    "As you can see, the essence of this algorithm is simple: we compare the adjacent elements, and by swapping some of them, we achieve our goal.\n",
    "\n",
    "Let's code in Python all the actions performed during a single pass through the list, and then we'll consider how many passes we actually need to perform it.\n",
    "\n",
    "\n",
    "How many passes do we need to sort the entire list?\n",
    "\n",
    "We solve this issue in the following way: we introduce another variable; its task is to observe if any swap has been done during the pass or not; if there is no swap, then the list is already sorted, and nothing more has to be done. We create a variable named **swapped**, and we assign a value of **False** to it, to indicate that there are no swaps. Otherwise, it will be assigned **True**."
   ]
  },
  {
   "cell_type": "code",
   "execution_count": 1,
   "id": "dd320666",
   "metadata": {},
   "outputs": [
    {
     "name": "stdout",
     "output_type": "stream",
     "text": [
      "[2, 4, 6, 8, 10]\n"
     ]
    }
   ],
   "source": [
    "my_list = [8, 10, 6, 2, 4]  # list to sort\n",
    "swapped = True  # It's a little fake, we need it to enter the while loop.\n",
    "\n",
    "while swapped:\n",
    "    swapped = False  # no swaps so far\n",
    "    for i in range(len(my_list) - 1):\n",
    "        if my_list[i] > my_list[i + 1]:\n",
    "            swapped = True  # a swap occurred!\n",
    "            my_list[i], my_list[i + 1] = my_list[i + 1], my_list[i]\n",
    "            \n",
    "\n",
    "print(my_list)\n"
   ]
  },
  {
   "cell_type": "markdown",
   "id": "4190abea",
   "metadata": {},
   "source": [
    "### Bubble Sort - Interactive version"
   ]
  },
  {
   "cell_type": "code",
   "execution_count": 2,
   "id": "83308738",
   "metadata": {},
   "outputs": [
    {
     "name": "stdout",
     "output_type": "stream",
     "text": [
      "How many elements do you want to sort: 6\n",
      "Enter a list element: 65\n",
      "Enter a list element: 78\n",
      "Enter a list element: 51\n",
      "Enter a list element: 55\n",
      "Enter a list element: 49\n",
      "Enter a list element: 2\n",
      "\n",
      "Sorted:\n",
      "[2.0, 49.0, 51.0, 55.0, 65.0, 78.0]\n"
     ]
    }
   ],
   "source": [
    "my_list = []\n",
    "swapped = True\n",
    "num = int(input(\"How many elements do you want to sort: \"))\n",
    "\n",
    "for i in range(num):\n",
    "    val = float(input(\"Enter a list element: \"))\n",
    "    my_list.append(val)\n",
    "\n",
    "while swapped:\n",
    "    swapped = False\n",
    "    for i in range(len(my_list) - 1):\n",
    "        if my_list[i] > my_list[i + 1]:\n",
    "            swapped = True\n",
    "            my_list[i], my_list[i + 1] = my_list[i + 1], my_list[i]\n",
    "\n",
    "print(\"\\nSorted:\")\n",
    "print(my_list)"
   ]
  },
  {
   "cell_type": "markdown",
   "id": "1cde2f86",
   "metadata": {},
   "source": [
    "### Day 11: Find the location of a given element inside a list."
   ]
  },
  {
   "cell_type": "code",
   "execution_count": 2,
   "id": "b342a9c2",
   "metadata": {},
   "outputs": [
    {
     "name": "stdout",
     "output_type": "stream",
     "text": [
      "Element found at index 8\n"
     ]
    }
   ],
   "source": [
    "my_list = [1, 2, 3, 4, 5, 6, 7, 8, 9, 10]\n",
    "to_find = 9\n",
    "found = False\n",
    "\n",
    "for i in range(len(my_list)):\n",
    "    found = my_list[i] == to_find\n",
    "    if found:\n",
    "        break\n",
    "\n",
    "if found:\n",
    "    print(\"Element found at index\", i)\n",
    "else:\n",
    "    print(\"absent\")"
   ]
  },
  {
   "cell_type": "markdown",
   "id": "59f5f1d2",
   "metadata": {},
   "source": [
    "### Scenario: Lottery\n",
    "\n",
    "Let's assume that you've chosen the following numbers in the lottery: **3, 7, 11, 42, 34, 49**.\n",
    "\n",
    "The numbers that have been drawn are: **5, 11, 9, 42, 3, 49**.\n",
    "\n",
    "The question is: how many numbers have you hit?"
   ]
  },
  {
   "cell_type": "code",
   "execution_count": 3,
   "id": "0ed21430",
   "metadata": {},
   "outputs": [
    {
     "name": "stdout",
     "output_type": "stream",
     "text": [
      "Number of hits are: 4\n"
     ]
    }
   ],
   "source": [
    "bets = [3, 7, 11, 42, 34, 49]\n",
    "drawn = [5, 11, 9, 42, 3, 49]\n",
    "\n",
    "hits = 0\n",
    "\n",
    "for num in bets:\n",
    "    if num in drawn:\n",
    "        hits += 1\n",
    "        \n",
    "print(\"Number of hits are:\", hits)"
   ]
  },
  {
   "cell_type": "markdown",
   "id": "5fbb89c1",
   "metadata": {},
   "source": [
    "### Scenario:\n",
    "\n",
    "Imagine a list - not very long, not very complicated, just a simple list containing some integer numbers. Some of these numbers may be repeated, and this is the clue. We don't want any repetitions. We want them to be removed.\n",
    "\n",
    "Your task is to write a program which removes all the number repetitions from the list. The goal is to have a list in which all the numbers appear not more than once.\n",
    "\n",
    "Note: assume that the source list is hard-coded inside the code - you don't have to enter it from the keyboard. Of course, you can improve the code and add a part that can carry out a conversation with the user and obtain all the data from her/him.\n",
    "\n",
    "Hint: we encourage you to create a new list as a temporary work area - you don't need to update the list in situ.\n",
    "\n",
    "#### Objectives\n",
    "Familiarize with:\n",
    "\n",
    "- list indexing;\n",
    "- utilizing the **in** and **not in** operators"
   ]
  },
  {
   "cell_type": "code",
   "execution_count": 4,
   "id": "fa4a0245",
   "metadata": {},
   "outputs": [
    {
     "name": "stdout",
     "output_type": "stream",
     "text": [
      "The list with unique elements only:\n",
      "[1, 2, 4, 6, 9]\n"
     ]
    }
   ],
   "source": [
    "my_list = [1, 2, 4, 4, 1, 4, 2, 6, 2, 9]\n",
    "\n",
    "my_list2 = []\n",
    "\n",
    "for number in my_list:\n",
    "    \n",
    "    if number not in my_list2:\n",
    "        my_list2.append(number)\n",
    "    else:\n",
    "        continue\n",
    "\n",
    "print(\"The list with unique elements only:\")\n",
    "print(my_list2)"
   ]
  },
  {
   "cell_type": "markdown",
   "id": "e5fb7081",
   "metadata": {},
   "source": [
    "### Day 12: List slicing"
   ]
  },
  {
   "cell_type": "code",
   "execution_count": 1,
   "id": "c245c55a",
   "metadata": {},
   "outputs": [
    {
     "name": "stdout",
     "output_type": "stream",
     "text": [
      "['C']\n"
     ]
    }
   ],
   "source": [
    "list_1 = [\"A\", \"B\", \"C\"]\n",
    "list_2 = list_1\n",
    "list_3 = list_2\n",
    "\n",
    "del list_1[0]\n",
    "del list_2[0]\n",
    "\n",
    "print(list_3)"
   ]
  },
  {
   "cell_type": "code",
   "execution_count": 2,
   "id": "3753c8d8",
   "metadata": {},
   "outputs": [
    {
     "name": "stdout",
     "output_type": "stream",
     "text": [
      "['B', 'C']\n"
     ]
    }
   ],
   "source": [
    "list_1 = [\"A\", \"B\", \"C\"]\n",
    "list_2 = list_1\n",
    "list_3 = list_2\n",
    "\n",
    "del list_1[0]\n",
    "del list_2\n",
    "\n",
    "print(list_3)"
   ]
  },
  {
   "cell_type": "code",
   "execution_count": 3,
   "id": "1d42335c",
   "metadata": {},
   "outputs": [
    {
     "name": "stdout",
     "output_type": "stream",
     "text": [
      "[]\n"
     ]
    }
   ],
   "source": [
    "list_1 = [\"A\", \"B\", \"C\"]\n",
    "list_2 = list_1\n",
    "list_3 = list_2\n",
    "\n",
    "del list_1[0]\n",
    "del list_2[:]\n",
    "\n",
    "print(list_3)"
   ]
  },
  {
   "cell_type": "code",
   "execution_count": 4,
   "id": "331ea45a",
   "metadata": {},
   "outputs": [
    {
     "name": "stdout",
     "output_type": "stream",
     "text": [
      "['A', 'B', 'C']\n"
     ]
    }
   ],
   "source": [
    "list_1 = [\"A\", \"B\", \"C\"]\n",
    "list_2 = list_1[:]\n",
    "list_3 = list_2[:]\n",
    "\n",
    "del list_1[0]\n",
    "del list_2[0]\n",
    "\n",
    "print(list_3)"
   ]
  },
  {
   "cell_type": "markdown",
   "id": "e9f22007",
   "metadata": {},
   "source": [
    "### Day 13: Nested Lists - Lists with multi-dimensional arrays\n",
    "\n",
    "Python does not limit the depth of list-in-list inclusion. Here you can see an example of a three-dimensional array:\n",
    "\n",
    "Imagine a hotel. It's a huge hotel consisting of three buildings, 15 floors each. There are 20 rooms on each floor. For this, you need an array which can collect and process information on the occupied/free rooms.\n",
    "\n",
    "First step - the type of the array's elements. In this case, a Boolean value (True/False) would fit.\n",
    "\n",
    "Step two - calm analysis of the situation. Summarize the available information: 3 buildings, 15 floors, 20 rooms.\n"
   ]
  },
  {
   "cell_type": "code",
   "execution_count": 1,
   "id": "cffb5463",
   "metadata": {},
   "outputs": [
    {
     "name": "stdout",
     "output_type": "stream",
     "text": [
      "Vacancies on the 15th floor of the third building: 20\n"
     ]
    }
   ],
   "source": [
    "#create the multi-dimensional array\n",
    "rooms = [[[False for r in range(20)] for f in range(15)] for t in range(3)]\n",
    "\n",
    "'''The first index (0 through 2) selects one of the buildings; the second (0 through 14) selects the floor, the third (0 through 19) selects the room number. All rooms are initially free.'''\n",
    "\n",
    "#book a room for two newlyweds: in the second building, on the tenth floor, room 14\n",
    "rooms[1][9][13] = True\n",
    "\n",
    "#release the second room on the fifth floor located in the first building\n",
    "rooms[0][4][1] = False\n",
    "\n",
    "#Check if there are any vacancies on the 15th floor of the third building\n",
    "vacancy = 0\n",
    "\n",
    "for room_num in range(20):\n",
    "    if not rooms[2][14][room_num]:\n",
    "        vacancy += 1\n",
    "        \n",
    "print(\"Vacancies on the 15th floor of the third building:\", vacancy)\n",
    "\n"
   ]
  },
  {
   "attachments": {
    "image.png": {
     "image/png": "[encoded data removed]"
    }
   },
   "cell_type": "markdown",
   "id": "ded14816",
   "metadata": {},
   "source": [
    "### Day 14: Use nested lists in Python to create matrices (i.e., two-dimensional lists).\n",
    "\n",
    "example:\n",
    "\n",
    "![image.png](attachment:image.png)"
   ]
  },
  {
   "cell_type": "code",
   "execution_count": 1,
   "id": "2cc69e92",
   "metadata": {},
   "outputs": [
    {
     "name": "stdout",
     "output_type": "stream",
     "text": [
      "[[':(', ':)', ':(', ':)'], [':)', ':(', ':)', ':)'], [':(', ':)', ':)', ':('], [':)', ':)', ':)', ':(']]\n",
      ":(\n",
      ":)\n"
     ]
    }
   ],
   "source": [
    "# A four-column/four-row table - a two dimensional array (4x4)\n",
    "\n",
    "table = [[\":(\", \":)\", \":(\", \":)\"],\n",
    "         [\":)\", \":(\", \":)\", \":)\"],\n",
    "         [\":(\", \":)\", \":)\", \":(\"],\n",
    "         [\":)\", \":)\", \":)\", \":(\"]]\n",
    "\n",
    "print(table)\n",
    "print(table[0][0])  \n",
    "print(table[0][3])  "
   ]
  },
  {
   "attachments": {
    "image.png": {
     "image/png": "[encoded data removed]"
    }
   },
   "cell_type": "markdown",
   "id": "91113577",
   "metadata": {},
   "source": [
    "Nest as many lists in lists as you want, and therefore create n-dimensional lists, e.g., three-, four- or even sixty-four-dimensional arrays. For example:\n",
    "\n",
    "![image.png](attachment:image.png)"
   ]
  },
  {
   "cell_type": "code",
   "execution_count": 2,
   "id": "751ba037",
   "metadata": {},
   "outputs": [
    {
     "name": "stdout",
     "output_type": "stream",
     "text": [
      "[[[':(', 'x', 'x'], [':)', 'x', 'x'], [':(', 'x', 'x']], [[':)', 'x', 'x'], [':(', 'x', 'x'], [':)', 'x', 'x']], [[':(', 'x', 'x'], [':)', 'x', 'x'], [':)', 'x', 'x']]]\n",
      ":(\n",
      ":)\n"
     ]
    }
   ],
   "source": [
    "#Cube - a three-dimensional array (3x3x3)\n",
    "\n",
    "cube = [[[':(', 'x', 'x'],\n",
    "         [':)', 'x', 'x'],\n",
    "         [':(', 'x', 'x']],\n",
    "\n",
    "        [[':)', 'x', 'x'],\n",
    "         [':(', 'x', 'x'],\n",
    "         [':)', 'x', 'x']],\n",
    "\n",
    "        [[':(', 'x', 'x'],\n",
    "         [':)', 'x', 'x'],\n",
    "         [':)', 'x', 'x']]]\n",
    "\n",
    "print(cube)\n",
    "print(cube[0][0][0])\n",
    "print(cube[2][2][0])  \n"
   ]
  }
 ],
 "metadata": {
  "kernelspec": {
   "display_name": "Python 3",
   "language": "python",
   "name": "python3"
  },
  "language_info": {
   "codemirror_mode": {
    "name": "ipython",
    "version": 3
   },
   "file_extension": ".py",
   "mimetype": "text/x-python",
   "name": "python",
   "nbconvert_exporter": "python",
   "pygments_lexer": "ipython3",
   "version": "3.8.8"
  }
 },
 "nbformat": 4,
 "nbformat_minor": 5
}
