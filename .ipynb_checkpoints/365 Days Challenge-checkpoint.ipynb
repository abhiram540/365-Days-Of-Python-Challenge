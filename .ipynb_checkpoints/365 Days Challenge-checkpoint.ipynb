{
 "cells": [
  {
   "cell_type": "markdown",
   "id": "ba7a74b4",
   "metadata": {},
   "source": [
    "# 365 Days of Python Challenge\n",
    "\n",
    "### Day 1: Line continuation characters in Python"
   ]
  },
  {
   "cell_type": "code",
   "execution_count": 1,
   "id": "8be689d3",
   "metadata": {},
   "outputs": [
    {
     "name": "stdout",
     "output_type": "stream",
     "text": [
      "Success is not final; failure is not fatal: It is the courage to continue that counts. — Winston S. Churchill\n"
     ]
    }
   ],
   "source": [
    "print('Success is not final; failure is not fatal: It is the courage to continue that counts. — Winston S. Churchill')"
   ]
  },
  {
   "cell_type": "code",
   "execution_count": 2,
   "id": "41be92f4",
   "metadata": {},
   "outputs": [
    {
     "ename": "SyntaxError",
     "evalue": "EOL while scanning string literal (<ipython-input-2-622b7d1b8d50>, line 1)",
     "output_type": "error",
     "traceback": [
      "\u001b[1;36m  File \u001b[1;32m\"<ipython-input-2-622b7d1b8d50>\"\u001b[1;36m, line \u001b[1;32m1\u001b[0m\n\u001b[1;33m    print('Success is not final; failure is not fatal:\u001b[0m\n\u001b[1;37m                                                      ^\u001b[0m\n\u001b[1;31mSyntaxError\u001b[0m\u001b[1;31m:\u001b[0m EOL while scanning string literal\n"
     ]
    }
   ],
   "source": [
    "print('Success is not final; failure is not fatal:\n",
    "      It is the courage to continue that counts.\" — Winston S. Churchill')"
   ]
  },
  {
   "cell_type": "code",
   "execution_count": 5,
   "id": "71cb5d12",
   "metadata": {},
   "outputs": [
    {
     "name": "stdout",
     "output_type": "stream",
     "text": [
      "Success is not final; failure is not fatal: It is the courage to continue that counts.\" — Winston S. Churchill\n"
     ]
    }
   ],
   "source": [
    "#In Python, a backslash (\\) is a continuation character\n",
    "print('Success is not final; failure is not fatal:\\\n",
    " It is the courage to continue that counts.\" — Winston S. Churchill')"
   ]
  },
  {
   "cell_type": "markdown",
   "id": "a9658633",
   "metadata": {},
   "source": [
    "### Day 2: Count character occurances using Python"
   ]
  },
  {
   "cell_type": "code",
   "execution_count": 1,
   "id": "16f9bbb4",
   "metadata": {},
   "outputs": [
    {
     "name": "stdout",
     "output_type": "stream",
     "text": [
      "Enter your string:cybertruck\n",
      "{'c': 2, 'y': 1, 'b': 1, 'e': 1, 'r': 2, 't': 1, 'u': 1, 'k': 1}\n",
      "None\n"
     ]
    }
   ],
   "source": [
    "def count_characters(x):\n",
    "    count = {}\n",
    "    for i in x:\n",
    "        if i in count:\n",
    "            count[i] += 1\n",
    "        else:\n",
    "            count[i] = 1\n",
    "    print(count)\n",
    "word = input('Enter your string:')\n",
    "print(count_characters(word))\n"
   ]
  },
  {
   "cell_type": "markdown",
   "id": "9b0bc433",
   "metadata": {},
   "source": [
    "### Day 3: using the if-else instruction to branch the control path and building a complete program that solves simple real-life problems.\n",
    "\n",
    "#### Scenario\n",
    "Once upon a time there was a land - a land of milk and honey, inhabited by happy and prosperous people. The people paid taxes, of course - their happiness had limits. The most important tax, called the Personal Income Tax (PIT for short) had to be paid once a year, and was evaluated using the following rule:\n",
    "\n",
    "- if the citizen's income was not higher than 85,528 thalers, the tax was equal to 18% of the income minus 556 thalers and 2 cents (this was the so-called tax relief)\n",
    "- if the income was higher than this amount, the tax was equal to 14,839 thalers and 2 cents, plus 32% of the surplus over 85,528 thalers.\n",
    "\n",
    "Your task is to write a tax calculator.\n",
    "\n",
    "It should accept one floating-point value: the income.\n",
    "Next, it should print the calculated tax, rounded to full thalers. There's a function named round() which will do the rounding for you.\n",
    "\n",
    "Note: this happy country never returns money to its citizens. If the calculated tax is less than zero, it only means no tax at all (the tax is equal to zero). Take this into consideration during your calculations.\n"
   ]
  },
  {
   "cell_type": "code",
   "execution_count": 1,
   "id": "85e625e7",
   "metadata": {},
   "outputs": [
    {
     "name": "stdout",
     "output_type": "stream",
     "text": [
      "Enter the annual income: 100000\n",
      "The tax is: 19470.0 thalers\n"
     ]
    }
   ],
   "source": [
    "income = float(input(\"Enter the annual income: \"))\n",
    "\n",
    "if income <= 85528:\n",
    "    tax = 0.18*income - 556.2\n",
    "    if tax < 0:\n",
    "        print(\"The tax is:\", 0, \"thalers\")\n",
    "        exit()\n",
    "else:\n",
    "    tax = 14839.2 + 0.32*(income - 85528)\n",
    "\n",
    "tax = round(tax, 0)\n",
    "print(\"The tax is:\", tax, \"thalers\")"
   ]
  },
  {
   "cell_type": "markdown",
   "id": "fc264ce9",
   "metadata": {},
   "source": [
    "### Day 4: using the if-elif-else statement, finding the proper implementation of verbally defined rules and testing code using sample input and output.\n",
    "\n",
    "#### Scenario\n",
    "As you surely know, due to some astronomical reasons, years may be leap or common. The former are 366 days long, while the latter are 365 days long.\n",
    "\n",
    "Since the introduction of the Gregorian calendar (in 1582), the following rule is used to determine the kind of year:\n",
    "\n",
    "- if the year number isn't divisible by four, it's a common year;\n",
    "- otherwise, if the year number isn't divisible by 100, it's a leap year;\n",
    "- otherwise, if the year number isn't divisible by 400, it's a common year;\n",
    "- otherwise, it's a leap year.\n",
    "\n",
    "The code should output one of two possible messages, which are Leap year or Common year, depending on the value entered.\n",
    "\n",
    "It would be good to verify if the entered year falls into the Gregorian era, and output a warning otherwise: Not within the Gregorian calendar period. Tip: use the != and % operators."
   ]
  },
  {
   "cell_type": "code",
   "execution_count": 3,
   "id": "7131e775",
   "metadata": {},
   "outputs": [
    {
     "name": "stdout",
     "output_type": "stream",
     "text": [
      "Enter a year: 1996\n",
      "it's a leap year\n"
     ]
    }
   ],
   "source": [
    "year = int(input(\"Enter a year: \"))\n",
    "\n",
    "if year < 1582:\n",
    "    print('Not within the Gregorian calendar period')\n",
    "elif (year%4) != 0:\n",
    "    print(\"it's a common year\")\n",
    "elif (year%100) != 0:\n",
    "    print(\"it's a leap year\")\n",
    "elif (year%400) != 0:\n",
    "    print(\"it's a common year\")\n",
    "else:\n",
    "    print(\"it's a leap year\")"
   ]
  },
  {
   "cell_type": "markdown",
   "id": "904e8065",
   "metadata": {},
   "source": [
    "### Day 5: using the ***while*** loop\n",
    "\n",
    "#### Scenario\n",
    "A junior magician has picked a secret number. He has hidden it in a variable named secret_number. He wants everyone who run his program to play the Guess the secret number game, and guess what number he has picked for them. Those who don't guess the number will be stuck in an endless loop forever! Unfortunately, he does not know how to complete the code.\n",
    "\n",
    "Your task is to help the magician complete the code in the editor in such a way so that the code:\n",
    "\n",
    "- will ask the user to enter an integer number;\n",
    "- will use a while loop;\n",
    "- will check whether the number entered by the user is the same as the number picked by the magician. If the number chosen by the user is different than the magician's secret number, the user should see the message \"Ha ha! You're stuck in my loop!\" and be prompted to enter a number again. If the number entered by the user matches the number picked by the magician, the number should be printed to the screen, and the magician should say the following words: \"Well done, muggle! You are free now.\"\n",
    "\n",
    "The magician is counting on you! Don't disappoint him.\n"
   ]
  },
  {
   "cell_type": "code",
   "execution_count": 2,
   "id": "b1058c8f",
   "metadata": {},
   "outputs": [
    {
     "name": "stdout",
     "output_type": "stream",
     "text": [
      "\n",
      "+================================+\n",
      "| Welcome to my game, muggle!    |\n",
      "| Enter an integer number        |\n",
      "| and guess what number I've     |\n",
      "| picked for you.                |\n",
      "| So, what is the secret number? |\n",
      "+================================+\n",
      "\n",
      "Enter the number you have guessed here:789\n",
      "Ha ha! You're stuck in my loop!\n",
      "Enter another guess:753\n",
      "Ha ha! You're stuck in my loop!\n",
      "Enter another guess:987\n",
      "Ha ha! You're stuck in my loop!\n",
      "Enter another guess:951\n",
      "Ha ha! You're stuck in my loop!\n",
      "Enter another guess:777\n",
      "777 Well done, muggle! You are free now.\n"
     ]
    }
   ],
   "source": [
    "secret_number = 777\n",
    "\n",
    "print(\n",
    "\"\"\"\n",
    "+================================+\n",
    "| Welcome to my game, muggle!    |\n",
    "| Enter an integer number        |\n",
    "| and guess what number I've     |\n",
    "| picked for you.                |\n",
    "| So, what is the secret number? |\n",
    "+================================+\n",
    "\"\"\")\n",
    "\n",
    "int_number = int(input(\"Enter the number you have guessed here:\"))\n",
    "\n",
    "while int_number != secret_number:\n",
    "    print(\"Ha ha! You're stuck in my loop!\")\n",
    "    int_number = int(input(\"Enter another guess:\"))\n",
    "    \n",
    "print(int_number, 'Well done, muggle! You are free now.')"
   ]
  },
  {
   "cell_type": "markdown",
   "id": "e8f1c938",
   "metadata": {},
   "source": [
    "### Day 6: Using the 'for' loop\n",
    "\n",
    "#### Scenario\n",
    "\n",
    "Do you know what Mississippi is? Well, it's the name of one of the states and rivers in the United States. The Mississippi River is about 2,340 miles long, which makes it the second longest river in the United States (the longest being the Missouri River). It's so long that a single drop of water needs 90 days to travel its entire length!\n",
    "\n",
    "The word Mississippi is also used for a slightly different purpose: to count mississippily.\n",
    "\n",
    "If you're not familiar with the phrase, let's explain to you what it means: it's used to count seconds.\n",
    "\n",
    "The idea behind it is that adding the word Mississippi to a number when counting seconds aloud makes them sound closer to clock-time, and therefore \"one Mississippi, two Mississippi, three Mississippi\" will take approximately an actual three seconds of time! It's often used by children playing hide-and-seek to make sure the seeker does an honest count.\n",
    "\n",
    "\n",
    "Your task is very simple here: ***write a program that uses a for loop to \"count mississippily\" to five. Having counted to five, the program should print to the screen the final message \"Ready or not, here I come!\"***\n",
    "\n",
    "Expected output:<br>\n",
    "1 Mississippi<br>\n",
    "2 Mississippi<br>\n",
    "3 Mississippi<br>\n",
    "4 Mississippi<br>\n",
    "5 Mississippi<br>"
   ]
  },
  {
   "cell_type": "code",
   "execution_count": 3,
   "id": "89dcbfc3",
   "metadata": {},
   "outputs": [
    {
     "name": "stdout",
     "output_type": "stream",
     "text": [
      "1 Mississippi\n",
      "2 Mississippi\n",
      "3 Mississippi\n",
      "4 Mississippi\n",
      "5 Mississippi\n",
      "Ready or not, here I come!\n"
     ]
    }
   ],
   "source": [
    "import time\n",
    "\n",
    "for i in range(1,6):\n",
    "    print(i, \"Mississippi\")\n",
    "    time.sleep(1)\n",
    "\n",
    "print('Ready or not, here I come!')"
   ]
  },
  {
   "cell_type": "markdown",
   "id": "7efb4756",
   "metadata": {},
   "source": [
    "### Day 7: Using the 'break' and 'continue' statements\n",
    "\n",
    "As a developer, one could be faced with the following choices:\n",
    "\n",
    "- it appears that it's unnecessary to continue the loop as a whole; you should refrain from further execution of the loop's body and go further;\n",
    "- it appears that you need to start the next turn of the loop without completing the execution of the current turn.\n",
    "\n",
    "Python provides two special instructions for the implementation of both these tasks. Let's say for the sake of accuracy that their existence in the language is not necessary - an experienced programmer is able to code any algorithm without these instructions. Such additions, which don't improve the language's expressive power, but only simplify the developer's work, are sometimes called syntactic candy, or syntactic sugar.\n",
    "\n",
    "These two instructions are:\n",
    "\n",
    "**break** - exits the loop immediately, and unconditionally ends the loop's operation; the program begins to execute the nearest instruction after the loop's body;\n",
    "**continue** - behaves as if the program has suddenly reached the end of the body; the next turn is started and the condition expression is tested immediately."
   ]
  },
  {
   "cell_type": "code",
   "execution_count": 1,
   "id": "c33f1994",
   "metadata": {},
   "outputs": [
    {
     "name": "stdout",
     "output_type": "stream",
     "text": [
      "the break instruction:\n",
      "Inside the loop. 1\n",
      "Inside the loop. 2\n",
      "Outside the loop\n",
      "the continue instruction:\n",
      "Inside the loop: 1\n",
      "Inside the loop: 2\n",
      "Inside the loop: 4\n",
      "Inside the loop: 5\n",
      "Outside the loop\n"
     ]
    }
   ],
   "source": [
    "# the break statement\n",
    "\n",
    "print(\"the break instruction:\")\n",
    "\n",
    "for i in range(1, 6):\n",
    "    if(i == 3):\n",
    "        break\n",
    "    print(\"Inside the loop.\", i)\n",
    "print(\"Outside the loop\")\n",
    "\n",
    "# the continue statement\n",
    "\n",
    "print(\"the continue instruction:\")\n",
    "\n",
    "for i in range(1, 6):\n",
    "    if(i == 3):\n",
    "        continue\n",
    "    print(\"Inside the loop:\", i)\n",
    "print(\"Outside the loop\")\n"
   ]
  }
 ],
 "metadata": {
  "kernelspec": {
   "display_name": "Python 3",
   "language": "python",
   "name": "python3"
  },
  "language_info": {
   "codemirror_mode": {
    "name": "ipython",
    "version": 3
   },
   "file_extension": ".py",
   "mimetype": "text/x-python",
   "name": "python",
   "nbconvert_exporter": "python",
   "pygments_lexer": "ipython3",
   "version": "3.8.8"
  }
 },
 "nbformat": 4,
 "nbformat_minor": 5
}
