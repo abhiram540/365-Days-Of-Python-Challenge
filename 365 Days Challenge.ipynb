{
 "cells": [
  {
   "cell_type": "markdown",
   "id": "ba7a74b4",
   "metadata": {},
   "source": [
    "# 365 Days of Python Challenge\n",
    "\n",
    "### Day 1: Line continuation characters in Python"
   ]
  },
  {
   "cell_type": "code",
   "execution_count": 1,
   "id": "8be689d3",
   "metadata": {},
   "outputs": [
    {
     "name": "stdout",
     "output_type": "stream",
     "text": [
      "Success is not final; failure is not fatal: It is the courage to continue that counts. — Winston S. Churchill\n"
     ]
    }
   ],
   "source": [
    "print('Success is not final; failure is not fatal: It is the courage to continue that counts. — Winston S. Churchill')"
   ]
  },
  {
   "cell_type": "code",
   "execution_count": 2,
   "id": "41be92f4",
   "metadata": {},
   "outputs": [
    {
     "ename": "SyntaxError",
     "evalue": "EOL while scanning string literal (<ipython-input-2-622b7d1b8d50>, line 1)",
     "output_type": "error",
     "traceback": [
      "\u001b[1;36m  File \u001b[1;32m\"<ipython-input-2-622b7d1b8d50>\"\u001b[1;36m, line \u001b[1;32m1\u001b[0m\n\u001b[1;33m    print('Success is not final; failure is not fatal:\u001b[0m\n\u001b[1;37m                                                      ^\u001b[0m\n\u001b[1;31mSyntaxError\u001b[0m\u001b[1;31m:\u001b[0m EOL while scanning string literal\n"
     ]
    }
   ],
   "source": [
    "print('Success is not final; failure is not fatal:\n",
    "      It is the courage to continue that counts.\" — Winston S. Churchill')"
   ]
  },
  {
   "cell_type": "code",
   "execution_count": 5,
   "id": "71cb5d12",
   "metadata": {},
   "outputs": [
    {
     "name": "stdout",
     "output_type": "stream",
     "text": [
      "Success is not final; failure is not fatal: It is the courage to continue that counts.\" — Winston S. Churchill\n"
     ]
    }
   ],
   "source": [
    "#In Python, a backslash (\\) is a continuation character\n",
    "print('Success is not final; failure is not fatal:\\\n",
    " It is the courage to continue that counts.\" — Winston S. Churchill')"
   ]
  },
  {
   "cell_type": "markdown",
   "id": "a9658633",
   "metadata": {},
   "source": [
    "### Day 2: Count character occurances using Python"
   ]
  },
  {
   "cell_type": "code",
   "execution_count": 1,
   "id": "16f9bbb4",
   "metadata": {},
   "outputs": [
    {
     "name": "stdout",
     "output_type": "stream",
     "text": [
      "Enter your string:cybertruck\n",
      "{'c': 2, 'y': 1, 'b': 1, 'e': 1, 'r': 2, 't': 1, 'u': 1, 'k': 1}\n",
      "None\n"
     ]
    }
   ],
   "source": [
    "def count_characters(x):\n",
    "    count = {}\n",
    "    for i in x:\n",
    "        if i in count:\n",
    "            count[i] += 1\n",
    "        else:\n",
    "            count[i] = 1\n",
    "    print(count)\n",
    "word = input('Enter your string:')\n",
    "print(count_characters(word))\n"
   ]
  },
  {
   "cell_type": "code",
   "execution_count": null,
   "id": "bc4bf3ce",
   "metadata": {},
   "outputs": [],
   "source": []
  }
 ],
 "metadata": {
  "kernelspec": {
   "display_name": "Python 3",
   "language": "python",
   "name": "python3"
  },
  "language_info": {
   "codemirror_mode": {
    "name": "ipython",
    "version": 3
   },
   "file_extension": ".py",
   "mimetype": "text/x-python",
   "name": "python",
   "nbconvert_exporter": "python",
   "pygments_lexer": "ipython3",
   "version": "3.8.8"
  }
 },
 "nbformat": 4,
 "nbformat_minor": 5
}
